{
  "nbformat": 4,
  "nbformat_minor": 0,
  "metadata": {
    "colab": {
      "provenance": [],
      "include_colab_link": true
    },
    "kernelspec": {
      "name": "python3",
      "display_name": "Python 3"
    },
    "language_info": {
      "name": "python"
    }
  },
  "cells": [
    {
      "cell_type": "markdown",
      "metadata": {
        "id": "view-in-github",
        "colab_type": "text"
      },
      "source": [
        "<a href=\"https://colab.research.google.com/github/Bhavi-2005/Bhavi-2005/blob/main/notebooks/Python_Practice.ipynb\" target=\"_parent\"><img src=\"https://colab.research.google.com/assets/colab-badge.svg\" alt=\"Open In Colab\"/></a>"
      ]
    },
    {
      "cell_type": "code",
      "execution_count": null,
      "metadata": {
        "id": "xgx3mMKXQanl",
        "colab": {
          "base_uri": "https://localhost:8080/"
        },
        "outputId": "6dc200fe-da20-45cd-96a8-136782d974b8"
      },
      "outputs": [
        {
          "output_type": "stream",
          "name": "stdout",
          "text": [
            "{'b': 1, 'h': 3, 'a': 5, 'v': 1, 'i': 5, 's': 2, 'y': 2, 'p': 1, 'r': 2, 'd': 1, 'n': 1, '9': 1, '@': 1, 'g': 1, 'm': 2, 'l': 1, '.': 1, 'c': 1, 'o': 1}\n"
          ]
        }
      ],
      "source": [
        "# Problem 1 : Count the occurance of character without using external functions.\n",
        "email_string = \"bhavishyapriyadarshini9@gmail.com\"\n",
        "char_frequency = {}\n",
        "\n",
        "for character in email_string:\n",
        "    if character in char_frequency:\n",
        "        char_frequency[character] += 1\n",
        "    else:\n",
        "        char_frequency[character] = 1\n",
        "\n",
        "print(char_frequency)\n"
      ]
    },
    {
      "cell_type": "code",
      "source": [
        "# Problem 2 : Palindrome\n",
        "word = \"bhavishyapriyadarshini9@gmail.com\"\n",
        "if word == word[::-1]:\n",
        "  print(\"The word is Palindrome\")\n",
        "else:\n",
        "  print(\"The word is not Palindrome\")"
      ],
      "metadata": {
        "colab": {
          "base_uri": "https://localhost:8080/"
        },
        "id": "BQ11Tnu2wo8j",
        "outputId": "e45fe0fe-2bba-4bb4-ffd9-c668dda6066d"
      },
      "execution_count": 1,
      "outputs": [
        {
          "output_type": "stream",
          "name": "stdout",
          "text": [
            "The word is not Palindrome\n"
          ]
        }
      ]
    },
    {
      "cell_type": "code",
      "source": [
        "# Problem 3 : Palindrome using Function\n",
        "def check_palindrome(s):\n",
        "  if s == s[::-1]:\n",
        "    print(\"The word is Palindrome\")\n",
        "  else:\n",
        "    print(\"The word is not Palindrome\")\n",
        "word = \"bhavishyapriyadarshini9@gmail.com\"\n",
        "print(check_palindrome(word))"
      ],
      "metadata": {
        "id": "ZrsxTfATzMPO",
        "outputId": "222155be-0cfd-4a0c-c07b-52ed1bbc2d55",
        "colab": {
          "base_uri": "https://localhost:8080/"
        }
      },
      "execution_count": 2,
      "outputs": [
        {
          "output_type": "stream",
          "name": "stdout",
          "text": [
            "The word is not Palindrome\n",
            "None\n"
          ]
        }
      ]
    },
    {
      "cell_type": "code",
      "source": [],
      "metadata": {
        "id": "52tHyEdczLFX"
      },
      "execution_count": null,
      "outputs": []
    }
  ]
}