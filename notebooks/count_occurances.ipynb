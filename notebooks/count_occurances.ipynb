{
  "nbformat": 4,
  "nbformat_minor": 0,
  "metadata": {
    "colab": {
      "provenance": [],
      "include_colab_link": true
    },
    "kernelspec": {
      "name": "python3",
      "display_name": "Python 3"
    },
    "language_info": {
      "name": "python"
    }
  },
  "cells": [
    {
      "cell_type": "markdown",
      "metadata": {
        "id": "view-in-github",
        "colab_type": "text"
      },
      "source": [
        "<a href=\"https://colab.research.google.com/github/Bhavi-2005/Bhavi-2005/blob/main/notebooks/count_occurances.ipynb\" target=\"_parent\"><img src=\"https://colab.research.google.com/assets/colab-badge.svg\" alt=\"Open In Colab\"/></a>"
      ]
    },
    {
      "cell_type": "code",
      "execution_count": null,
      "metadata": {
        "id": "xgx3mMKXQanl",
        "colab": {
          "base_uri": "https://localhost:8080/"
        },
        "outputId": "6dc200fe-da20-45cd-96a8-136782d974b8"
      },
      "outputs": [
        {
          "output_type": "stream",
          "name": "stdout",
          "text": [
            "{'b': 1, 'h': 3, 'a': 5, 'v': 1, 'i': 5, 's': 2, 'y': 2, 'p': 1, 'r': 2, 'd': 1, 'n': 1, '9': 1, '@': 1, 'g': 1, 'm': 2, 'l': 1, '.': 1, 'c': 1, 'o': 1}\n"
          ]
        }
      ],
      "source": [
        "# Problem 1 : Count the occurance of character without using external functions.\n",
        "email_string = \"bhavishyapriyadarshini9@gmail.com\"\n",
        "char_frequency = {}\n",
        "\n",
        "for character in email_string:\n",
        "    if character in char_frequency:\n",
        "        char_frequency[character] += 1\n",
        "    else:\n",
        "        char_frequency[character] = 1\n",
        "\n",
        "print(char_frequency)\n"
      ]
    },
    {
      "cell_type": "code",
      "source": [
        "# Problem 2 : Palindrome\n",
        "word = \"bhavishyapriyadarshini9@gmail.com\"\n",
        "if word == word[::-1]:\n",
        "  print(\"The word is Palindrome\")\n",
        "else:\n",
        "  print(\"The word is not Palindrome\")"
      ],
      "metadata": {
        "id": "BQ11Tnu2wo8j",
        "outputId": "e45fe0fe-2bba-4bb4-ffd9-c668dda6066d",
        "colab": {
          "base_uri": "https://localhost:8080/"
        }
      },
      "execution_count": 1,
      "outputs": [
        {
          "output_type": "stream",
          "name": "stdout",
          "text": [
            "The word is not Palindrome\n"
          ]
        }
      ]
    }
  ]
}